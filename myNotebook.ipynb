{
 "cells": [
  {
   "cell_type": "code",
   "execution_count": 1,
   "metadata": {},
   "outputs": [
    {
     "name": "stderr",
     "output_type": "stream",
     "text": [
      "[nltk_data] Downloading package punkt to\n",
      "[nltk_data]     C:\\Users\\Owner\\AppData\\Roaming\\nltk_data...\n",
      "[nltk_data]   Package punkt is already up-to-date!\n"
     ]
    },
    {
     "data": {
      "text/plain": [
       "True"
      ]
     },
     "execution_count": 1,
     "metadata": {},
     "output_type": "execute_result"
    }
   ],
   "source": [
    "# 自然言語処理のライブラリのダウンロードと実行\n",
    "import nltk\n",
    "nltk.download('punkt')"
   ]
  },
  {
   "cell_type": "code",
   "execution_count": 2,
   "metadata": {},
   "outputs": [
    {
     "name": "stdout",
     "output_type": "stream",
     "text": [
      "処理完了\n"
     ]
    }
   ],
   "source": [
    "# ライブラリのインポート\n",
    "import newspaper\n",
    "import csv\n",
    "import datetime\n",
    "\n",
    "# ニュースサイトのトップページから記事をまとめて取得、サマリーは最大300文字\n",
    "url = 'https://bloomberg.co.jp/'\n",
    "website = newspaper.build(url, memoize_articles = False, MAX_SUMMARY = 300)\n",
    "\n",
    "# CSVファイル名\n",
    "cvs_date = datetime.datetime.today().strftime('%Y%m%d')\n",
    "cvs_file = 'Bloomberg_' + cvs_date + '.csv'\n",
    "\n",
    "# CSVファイルをオープン\n",
    "file = open('C:\\\\Users\\\\Owner\\\\Newspaper-Exercises3\\\\' + cvs_file, mode='w', encoding='utf8')\n",
    "\n",
    "# CVSファイルへの書込オブジェクト取得\n",
    "writer = csv.writer(file, lineterminator='\\n')\n",
    "\n",
    "# ヘッダ情報をリスト定義\n",
    "header = ['記事番号', 'URL', 'サマリー']\n",
    "\n",
    "# ヘッダ情報を書込オブジェクトを使用してCSVファイルに書き込み\n",
    "writer.writerow(header)\n",
    "\n",
    "# 取得した各記事をループ処理\n",
    "for item in range(len(website.articles)):\n",
    "    csvlist = []\n",
    "    article = website.articles[item]\n",
    "    try:\n",
    "        # 各記事のダウンロード・解析・自然言語処理\n",
    "        article.download()\n",
    "        article.parse()\n",
    "        article.nlp()\n",
    "        \n",
    "        # 記事番号・URL・サマリーを標準出力\n",
    "        # print('記事[' + str(item) + ']')\n",
    "        # print(article.url)\n",
    "        # print(article.summary + '\\n')\n",
    "        \n",
    "        # 記事番号・URL・サマリーをCSV出力\n",
    "        csvlist.append(str(item))\n",
    "        csvlist.append(article.url)\n",
    "        csvlist.append(article.summary)\n",
    "        writer.writerow(csvlist)\n",
    "    except:\n",
    "        print('記事[' + str(item) + '] でエラー発生')\n",
    "        continue\n",
    "\n",
    "# ループ処理終了時に表示\n",
    "print('処理完了')\n",
    "\n",
    "# CSVファイルをクローズ\n",
    "file.close()"
   ]
  },
  {
   "cell_type": "code",
   "execution_count": null,
   "metadata": {},
   "outputs": [],
   "source": []
  }
 ],
 "metadata": {
  "kernelspec": {
   "display_name": "Python 3",
   "language": "python",
   "name": "python3"
  },
  "language_info": {
   "codemirror_mode": {
    "name": "ipython",
    "version": 3
   },
   "file_extension": ".py",
   "mimetype": "text/x-python",
   "name": "python",
   "nbconvert_exporter": "python",
   "pygments_lexer": "ipython3",
   "version": "3.8.3"
  }
 },
 "nbformat": 4,
 "nbformat_minor": 4
}
